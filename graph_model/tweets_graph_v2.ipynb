{
 "cells": [
  {
   "cell_type": "code",
   "execution_count": 1,
   "metadata": {},
   "outputs": [],
   "source": [
    "import glob\n",
    "import os\n",
    "import json\n",
    "from enum import Enum\n",
    "import numpy as np"
   ]
  },
  {
   "cell_type": "code",
   "execution_count": 2,
   "metadata": {},
   "outputs": [],
   "source": [
    "class Label(Enum):\n",
    "    Fake = 0\n",
    "    Real = 1\n",
    "\n",
    "dataset_dir = '/home/cyulin/Course/cse547/fp/FakeNewsNet/code/fakenewsnet_dataset'\n",
    "out_dir = './data_v3'\n",
    "\n",
    "if not os.path.exists(out_dir):\n",
    "    os.makedirs(out_dir)\n",
    "\n",
    "p_fake_paths = glob.iglob(dataset_dir + '/politifact/fake/*')\n",
    "p_real_paths = glob.iglob(dataset_dir + '/politifact/real/*')\n",
    "\n",
    "news_ids = []\n",
    "news_users = []\n",
    "news_labels = []\n",
    "news_features = []\n",
    "\n",
    "user_ids = []\n",
    "\n",
    "news_id_map = {}\n",
    "user_id_map = {}\n",
    "\n",
    "news_to_users = {}\n",
    "users_to_news = {}"
   ]
  },
  {
   "cell_type": "code",
   "execution_count": 3,
   "metadata": {},
   "outputs": [],
   "source": [
    "def parse_file_new(names, label, news_ids, news_labels, news_users, user_ids):\n",
    "    for file_path in names:\n",
    "        path_items = file_path.split('/')\n",
    "        n_id = path_items[-1]\n",
    "        news_ids.append(n_id)\n",
    "        news_labels.append(label)\n",
    "        \n",
    "        tweets_files = os.listdir(file_path + '/tweets')   \n",
    "        u_id_list = []\n",
    "        for filename in tweets_files:\n",
    "            full_path = file_path + '/tweets/' + filename \n",
    "            with open(full_path) as json_file:\n",
    "                data = json.load(json_file)\n",
    "                u_id = data['user']['id']\n",
    "                u_id_list.append(u_id)\n",
    "                user_ids.append(u_id)\n",
    "        news_users.append(u_id_list)"
   ]
  },
  {
   "cell_type": "code",
   "execution_count": 4,
   "metadata": {},
   "outputs": [],
   "source": [
    "parse_file_new(p_fake_paths, Label.Fake, news_ids, news_labels, news_users, user_ids)\n",
    "parse_file_new(p_real_paths, Label.Real, news_ids, news_labels, news_users, user_ids)"
   ]
  },
  {
   "cell_type": "code",
   "execution_count": 5,
   "metadata": {},
   "outputs": [],
   "source": [
    "# convert to numpy array\n",
    "news_ids = np.asarray(news_ids)\n",
    "news_users = np.asarray(news_users)\n",
    "news_labels = np.asarray(news_labels)\n",
    "user_ids = np.asarray(user_ids)\n",
    "user_ids = np.unique(user_ids)"
   ]
  },
  {
   "cell_type": "code",
   "execution_count": 6,
   "metadata": {},
   "outputs": [],
   "source": [
    "# compute ip mapping\n",
    "def uid_map_help(v):\n",
    "    return np.array(list(map(user_ids_map.get, v)))\n",
    "\n",
    "news_ids_map = {j:i for i, j in enumerate(news_ids)}\n",
    "user_ids_map = {j:i for i, j in enumerate(user_ids)}\n",
    "\n",
    "news_ids = np.array(list(map(news_ids_map.get, news_ids)))\n",
    "user_ids = np.array(list(map(news_ids_map.get, user_ids)))\n",
    "news_users = np.array(map(uid_map_help, news_users))"
   ]
  },
  {
   "cell_type": "code",
   "execution_count": 7,
   "metadata": {},
   "outputs": [],
   "source": [
    "fea_len = 5000\n",
    "\n",
    "for u_ids in news_users:\n",
    "    features = np.zeros(fea_len, dtype=np.int32)\n",
    "    for u_id in u_ids:\n",
    "        features[u_id%fea_len] = 1\n",
    "    news_features.append(features)\n",
    "news_features = np.asarray(news_features)"
   ]
  },
  {
   "cell_type": "code",
   "execution_count": 8,
   "metadata": {},
   "outputs": [],
   "source": [
    "# shuffle the news arrays with same order\n",
    "num_news = len(news_ids)\n",
    "num_users = len(user_ids)\n",
    "\n",
    "randomize = np.arange(num_news)\n",
    "np.random.shuffle(randomize)\n",
    "\n",
    "news_ids = news_ids[randomize]\n",
    "news_users = news_users[randomize]\n",
    "news_labels = news_labels[randomize]\n",
    "news_features = news_features[randomize]"
   ]
  },
  {
   "cell_type": "code",
   "execution_count": 9,
   "metadata": {},
   "outputs": [],
   "source": [
    "# write labels and features to file\n",
    "out_path = out_dir + '/politifact.labels'\n",
    "with open(out_path, 'w') as f:\n",
    "    for i in range(num_news):\n",
    "        f.write(\"{}\\t\".format(news_ids[i]))\n",
    "        features = news_features[i]\n",
    "        features.tofile(f, sep=\" \")\n",
    "        if news_labels[i] == Label.Fake:\n",
    "            f.write('\\t{}'.format('Fake'))\n",
    "        else:\n",
    "            f.write('\\t{}'.format('Real'))\n",
    "        f.write(\"\\n\")"
   ]
  },
  {
   "cell_type": "code",
   "execution_count": null,
   "metadata": {},
   "outputs": [],
   "source": [
    "# construct graph edges"
   ]
  },
  {
   "cell_type": "code",
   "execution_count": 4,
   "metadata": {},
   "outputs": [],
   "source": [
    "out_path = out_dir + '/politifact_labels.txt'\n",
    "with open(out_path, 'w') as f:\n",
    "    for key, value in news_labels.items():\n",
    "        if value == Label.Fake:\n",
    "            f.write(\"%d\\t%d\\n\"%(key, 0))\n",
    "        elif value == Label.Real:\n",
    "            f.write(\"%d\\t%d\\n\"%(key, 1))"
   ]
  },
  {
   "cell_type": "code",
   "execution_count": 5,
   "metadata": {},
   "outputs": [],
   "source": [
    "out_path = out_dir + '/politifact_news_to_users_graph.txt'\n",
    "with open(out_path, 'w') as f:\n",
    "    for key, values in news_to_users.items():\n",
    "        for v in values:\n",
    "            f.write(\"%d\\t%d\\n\"%(key, v))"
   ]
  },
  {
   "cell_type": "code",
   "execution_count": 6,
   "metadata": {},
   "outputs": [],
   "source": [
    "out_path = out_dir + '/politifact_users_to_news_graph.txt'\n",
    "with open(out_path, 'w') as f:\n",
    "    for key, values in users_to_news.items():\n",
    "        for v in values:\n",
    "            f.write(\"%d\\t%d\\n\"%(key, v))"
   ]
  },
  {
   "cell_type": "code",
   "execution_count": 7,
   "metadata": {},
   "outputs": [],
   "source": [
    "user_id_mapping = sorted(user_id_mapping.items(), key= lambda x: x[1])\n",
    "out_path = out_dir + '/politifact_user_id_map.txt'\n",
    "with open(out_path, 'w') as f:\n",
    "    for key, value in user_id_mapping:\n",
    "        f.write(\"%d\\t%d\" %(key, value))\n",
    "        f.write(\"\\n\")"
   ]
  },
  {
   "cell_type": "code",
   "execution_count": 8,
   "metadata": {},
   "outputs": [],
   "source": [
    "news_id_mapping = sorted(news_id_mapping.items(), key= lambda x: x[1])\n",
    "out_path = out_dir + '/politifact_news_id_map.txt'\n",
    "with open(out_path, 'w') as f:\n",
    "    for key, value in news_id_mapping:\n",
    "        f.write(\"%s\\t%d\" %(key, value))\n",
    "        f.write(\"\\n\")"
   ]
  }
 ],
 "metadata": {
  "kernelspec": {
   "display_name": "Python 2",
   "language": "python",
   "name": "python2"
  },
  "language_info": {
   "codemirror_mode": {
    "name": "ipython",
    "version": 2
   },
   "file_extension": ".py",
   "mimetype": "text/x-python",
   "name": "python",
   "nbconvert_exporter": "python",
   "pygments_lexer": "ipython2",
   "version": "2.7.15"
  }
 },
 "nbformat": 4,
 "nbformat_minor": 2
}
