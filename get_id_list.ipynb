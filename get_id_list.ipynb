{
 "cells": [
  {
   "cell_type": "code",
   "execution_count": 1,
   "metadata": {},
   "outputs": [],
   "source": [
    "import glob\n",
    "import os\n",
    "import random\n",
    "import subprocess"
   ]
  },
  {
   "cell_type": "code",
   "execution_count": 2,
   "metadata": {},
   "outputs": [],
   "source": [
    "p_files = glob.iglob('FakeNewsNet/code/fakenewsnet_dataset/politifact/*/*')\n",
    "\n",
    "p_items = []\n",
    "for p in p_files:\n",
    "    s_p = p.split('/')\n",
    "    item_str = \"{}/{}/{}\\t{}\".format(s_p[-3], s_p[-2], s_p[-1], s_p[-2])\n",
    "    p_items.append(item_str)"
   ]
  },
  {
   "cell_type": "code",
   "execution_count": 3,
   "metadata": {},
   "outputs": [],
   "source": [
    "g_files = glob.iglob('FakeNewsNet/code/fakenewsnet_dataset/gossipcop/*/*')\n",
    "\n",
    "g_items = []\n",
    "for g in g_files:\n",
    "    s_g = g.split('/')\n",
    "    item_str = \"{}/{}/{}\\t{}\".format(s_g[-3], s_g[-2], s_g[-1], s_g[-2])\n",
    "    g_items.append(item_str)"
   ]
  },
  {
   "cell_type": "code",
   "execution_count": 4,
   "metadata": {},
   "outputs": [],
   "source": [
    "random.seed(42)\n",
    "random.shuffle(p_items)\n",
    "random.shuffle(g_items)"
   ]
  },
  {
   "cell_type": "code",
   "execution_count": 5,
   "metadata": {},
   "outputs": [],
   "source": [
    "num_p = len(p_items)\n",
    "\n",
    "train_set = int(0.8 * num_p)\n",
    "f_train = open('list/trainIDs.txt', 'w')\n",
    "f_test = open('list/testIDs.txt', 'w')\n",
    "\n",
    "with open('list/politifact_trainIDs.txt', 'w') as f:\n",
    "    for item_str in p_items[:train_set]:\n",
    "        f.write(\"%s\\n\" % item_str)\n",
    "        f_train.write(\"%s\\n\" % item_str)\n",
    "        \n",
    "with open('list/politifact_testIDs.txt', 'w') as f:\n",
    "    for item_str in p_items[train_set:]:\n",
    "        f.write(\"%s\\n\" % item_str)\n",
    "        f_test.write(\"%s\\n\" % item_str)"
   ]
  },
  {
   "cell_type": "code",
   "execution_count": 6,
   "metadata": {},
   "outputs": [],
   "source": [
    "num_g = len(g_items)\n",
    "\n",
    "train_set = int(0.8 * num_g)\n",
    "with open('list/gossipcop_trainIDs.txt', 'w') as f:\n",
    "    for item_str in g_items[:train_set]:\n",
    "        f.write(\"%s\\n\" % item_str)\n",
    "        f_train.write(\"%s\\n\" % item_str)\n",
    "        \n",
    "with open('list/gossipcop_testIDs.txt', 'w') as f:\n",
    "    for item_str in g_items[train_set:]:\n",
    "        f.write(\"%s\\n\" % item_str)\n",
    "        f_test.write(\"%s\\n\" % item_str)"
   ]
  },
  {
   "cell_type": "code",
   "execution_count": 7,
   "metadata": {},
   "outputs": [],
   "source": [
    "f_train.close()\n",
    "f_test.close()"
   ]
  }
 ],
 "metadata": {
  "kernelspec": {
   "display_name": "dgl",
   "language": "python",
   "name": "dgl"
  },
  "language_info": {
   "codemirror_mode": {
    "name": "ipython",
    "version": 3
   },
   "file_extension": ".py",
   "mimetype": "text/x-python",
   "name": "python",
   "nbconvert_exporter": "python",
   "pygments_lexer": "ipython3",
   "version": "3.6.8"
  }
 },
 "nbformat": 4,
 "nbformat_minor": 2
}
